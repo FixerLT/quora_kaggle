{
 "cells": [
  {
   "cell_type": "code",
   "execution_count": null,
   "metadata": {
    "collapsed": true
   },
   "outputs": [],
   "source": [
    "raw_data = []\n",
    "with open(\"train.csv\") as csvfile:\n",
    "    reader = csv.reader(csvfile, quoting=csv.QUOTE_NONNUMERIC)\n",
    "    for row in reader:\n",
    "        raw_data.append(row)"
   ]
  },
  {
   "cell_type": "code",
   "execution_count": null,
   "metadata": {
    "collapsed": true
   },
   "outputs": [],
   "source": [
    "raw_words = []  # used to fit stemmed vectorizer\n",
    "raw_pairs = []  # used to store each pair of questions in train data\n",
    "answers = []  # right is_duplicate train answers\n",
    "for i in range(1, len(raw_data)):\n",
    "    raw_words.append(raw_data[i][3])\n",
    "    raw_words.append(raw_data[i][4])\n",
    "    raw_pairs.append(raw_data[i][3:5])\n",
    "    answers.append(raw_data[i][5])\n"
   ]
  },
  {
   "cell_type": "code",
   "execution_count": null,
   "metadata": {},
   "outputs": [],
   "source": [
    "english_stemmer = nltk.stem.SnowballStemmer(\"english\")\n",
    "class StemmedCountVectorizer(CountVectorizer):\n",
    "    def build_analyzer(self):\n",
    "        analyzer = super(StemmedCountVectorizer, self).build_analyzer()\n",
    "        return lambda doc: (english_stemmer.stem(w) for w in analyzer(doc))"
   ]
  },
  {
   "cell_type": "code",
   "execution_count": null,
   "metadata": {},
   "outputs": [],
   "source": [
    "vectorizer = StemmedCountVectorizer(min_df=1, stop_words=\"english\")\n",
    "vectorizer.fit(raw_words)"
   ]
  },
  {
   "cell_type": "code",
   "execution_count": null,
   "metadata": {},
   "outputs": [],
   "source": [
    "def vect(arr):\n",
    "    new_arr = [arr]\n",
    "    return vectorizer.transform(new_arr);\n",
    "\n",
    "\n",
    "pairs = []  # used to store vectorized train questions\n",
    "for row in raw_pairs:\n",
    "    new_row = []\n",
    "    for sentence in row:\n",
    "        new_row.append(vect(sentence))\n",
    "    pairs.append(new_row)"
   ]
  },
  {
   "cell_type": "code",
   "execution_count": null,
   "metadata": {},
   "outputs": [],
   "source": [
    "good_pos = []\n",
    "good_neg = []\n",
    "for i in range(0, len(pairs)):\n",
    "    ans = dist_norm(pairs[i][0], pairs[i][1]);\n",
    "    if answers[i] == '1':\n",
    "        good_pos.append(ans);\n",
    "    else:\n",
    "        good_neg.append(ans);\n",
    "print(sum(good_pos) / len(good_pos));\n",
    "print(sum(good_neg) / len(good_neg));\n",
    "lim = (sum(good_pos) / len(good_pos) + sum(good_neg) / len(good_neg)) / 2;\n",
    "# the idea of the code above is to ged average distance betwee different questions and between similar questiond\n",
    "# the median of two distances is how we check questions for duplicates"
   ]
  },
  {
   "cell_type": "code",
   "execution_count": null,
   "metadata": {},
   "outputs": [],
   "source": [
    "test_answers = [];  # used to store predictions for test data\n",
    "with open(\"test.csv\") as csvfile:\n",
    "    reader = csv.reader(csvfile, quoting=csv.QUOTE_NONNUMERIC)  # change contents to floats\n",
    "    for row in reader:  # each row is a list\n",
    "        new_dist = dist_norm(vect(row[1]), vect(row[2]));  # comparing vectorization of two answers\n",
    "        new_ans = '0';\n",
    "        if (new_dist < lim):\n",
    "            new_ans = '1';\n",
    "        test_answers.append(new_ans);"
   ]
  },
  {
   "cell_type": "code",
   "execution_count": null,
   "metadata": {},
   "outputs": [],
   "source": [
    "with open('answers.csv', 'w') as csvfile:\n",
    "    writer = csv.writer(csvfile, delimiter=',', quotechar='|', quoting=csv.QUOTE_MINIMAL)\n",
    "    writer.writerow(['test_id', 'is_duplicate']);\n",
    "    for i in range(1, len(test_answers)):\n",
    "        writer.writerow([i - 1, int(test_answers[i])]);"
   ]
  },
  {
   "cell_type": "code",
   "execution_count": null,
   "metadata": {},
   "outputs": [],
   "source": [
    ""
   ]
  }
 ],
 "metadata": {
  "kernelspec": {
   "display_name": "Python 2",
   "language": "python",
   "name": "python2"
  },
  "language_info": {
   "codemirror_mode": {
    "name": "ipython",
    "version": 2
   },
   "file_extension": ".py",
   "mimetype": "text/x-python",
   "name": "python",
   "nbconvert_exporter": "python",
   "pygments_lexer": "ipython2",
   "version": "2.7.6"
  }
 },
 "nbformat": 4,
 "nbformat_minor": 0
}
